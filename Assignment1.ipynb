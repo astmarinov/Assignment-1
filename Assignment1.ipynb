{
 "cells": [
  {
   "cell_type": "markdown",
   "metadata": {},
   "source": [
    "<h1>Assigment 1</h1>\n",
    "<h2>Example of implementing AI to predict Air Pollution Index based on meteorological data and specific time of the year</h2>\n",
    "\n",
    "This Jupyter Notebook is a part of Assignment in the CloudEARTHi project student workshop. The assignment aims to provide a simple demonstration how AI can be used to predict Air Pollution Index using meteorological data and specific time of the year. This notebook should not be considered as full functional application, correct class prediction algorithm or an example for a well-organized AI, but rather as a demo tailored to education of non-specialists. This notebook should be used together with the assignment description file."
   ]
  },
  {
   "cell_type": "markdown",
   "metadata": {},
   "source": [
    "<h3>Code and description</h3>\n",
    "\n",
    "The first section of the notebook includes its imports. This section defines the modules that are used by the application. By the order they are imported:\n",
    "<ul>\n",
    "<li><strong>csv</strong> - handles csv files and in the current application is used to load the data from the pre-prepared CSV files;</li>\n",
    "<li><strong>numpy</strong> – allows for handling array and matrixes;</li>\n",
    "<li><strong>pandas</strong> – allows to create dataframes – tables that in the current application are used to visualize the data;</li>\n",
    "<li><strong>sklearn</strong> – this module is related to various AI and data processing algorithms – in the current application it is used to handle the data and build a random forest classifier. As this module is rather large, only required classes are loaded.</li>\n",
    "</ul>"
   ]
  },
  {
   "cell_type": "code",
   "execution_count": 26,
   "metadata": {},
   "outputs": [],
   "source": [
    "import csv\n",
    "import numpy as np\n",
    "import pandas as pd\n",
    "from sklearn.ensemble import RandomForestClassifier\n",
    "from sklearn.model_selection import train_test_split"
   ]
  },
  {
   "cell_type": "markdown",
   "metadata": {},
   "source": [
    "This code block loads the data from the CSV file. The data is loaded into a list.\n",
    "Available data is included for the following locations:\n",
    "<ul>\n",
    "<li><strong>Varna, Bulgaria</strong> - file name: Varna.csv</li>\n",
    "<li><strong>Sofia, Bulgaria</strong> - file name: Sofia.csv</li>\n",
    "<li><strong>Tromso, Norway</strong> - file name: Tromso.csv</li>\n",
    "<li><strong>Edinburgh, UK</strong> - file name: Edinburgh.csv</li>\n",
    "<li><strong>Vienna, Austria</strong> - file name: Vienna.csv</li>\n",
    "<li><strong>New Delhi, India</strong> - file name: NewDelhi.csv</li>\n",
    "</ul>\n",
    "\n",
    "In order to run the code with a different data set just replace the file at the line indicated by the comment.\n",
    "\n",
    "The csv files include consolidated data related to weather forecasts and Air Quality Index. The weather data is extracted from the module meteostat - https://github.com/meteostat/meteostat-python, while the Air Quality Index data is downloaded from https://aqicn.org/data-platform/register/ and evaluated using the table on https://aqicn.org/."
   ]
  },
  {
   "cell_type": "code",
   "execution_count": 27,
   "metadata": {},
   "outputs": [],
   "source": [
    "data=[]\n",
    "with open('Varna.csv', newline='') as csvfile: #Replace the name of the file in this line. \n",
    "                                               #Keep the apostrophes. \n",
    "                                               #For example: with open('Sofia.csv', newline='') \n",
    "                                               #will run the application with data for Sofia city.\n",
    "    spamreader = csv.reader(csvfile, delimiter=',', quotechar='|')\n",
    "    for row in spamreader:\n",
    "        data.append(row)"
   ]
  },
  {
   "cell_type": "markdown",
   "metadata": {},
   "source": [
    "This code blocks converts the list that includes the data from the csv file into a dataframe. The data frame is used to better visualize the data. A snipped of the loaded data is presented at Out line bellow this block. \n",
    "In the snipped:\n",
    "<ul>\n",
    "<li><strong>date - the date that measurment was taken on. This field is removed when the data is used for training;</strong></li> \n",
    "<li><strong>month</strong> - the month from the year - 1-12;</li>\n",
    "<li><strong>dayofweek</strong> - day of the week - 1-7; </li>\n",
    "<li><strong>tavg</strong> - average temperature in <sup>o</sup>C;</li>\n",
    "<li><strong>tmin</strong> - minimum temperature in <sup>o</sup>C;</li>\n",
    "<li><strong>tmax</strong> - maximum temperature in <sup>o</sup>C;</li>\n",
    "<li><strong>prcp</strong> - percipation in mm;</li>\n",
    "<li><strong>wspd</strong> - wind speed in km/h;</li>\n",
    "<li><strong>pres</strong> - air pressure hPa;</li>\n",
    "<li><strong>AQI</strong> - air quality index;</li>\n",
    "</ul>"
   ]
  },
  {
   "cell_type": "code",
   "execution_count": 28,
   "metadata": {},
   "outputs": [
    {
     "data": {
      "text/html": [
       "<div>\n",
       "<style scoped>\n",
       "    .dataframe tbody tr th:only-of-type {\n",
       "        vertical-align: middle;\n",
       "    }\n",
       "\n",
       "    .dataframe tbody tr th {\n",
       "        vertical-align: top;\n",
       "    }\n",
       "\n",
       "    .dataframe thead th {\n",
       "        text-align: right;\n",
       "    }\n",
       "</style>\n",
       "<table border=\"1\" class=\"dataframe\">\n",
       "  <thead>\n",
       "    <tr style=\"text-align: right;\">\n",
       "      <th></th>\n",
       "      <th>date</th>\n",
       "      <th>month</th>\n",
       "      <th>dayofweek</th>\n",
       "      <th>tavg</th>\n",
       "      <th>tmin</th>\n",
       "      <th>tmax</th>\n",
       "      <th>prcp</th>\n",
       "      <th>wspd</th>\n",
       "      <th>pres</th>\n",
       "      <th>AQI</th>\n",
       "    </tr>\n",
       "  </thead>\n",
       "  <tbody>\n",
       "    <tr>\n",
       "      <th>0</th>\n",
       "      <td>2018-02-12 00:00:00</td>\n",
       "      <td>2</td>\n",
       "      <td>0</td>\n",
       "      <td>2.3</td>\n",
       "      <td>1.0</td>\n",
       "      <td>4.2</td>\n",
       "      <td>4.3</td>\n",
       "      <td>10.3</td>\n",
       "      <td>1012.0</td>\n",
       "      <td>Good</td>\n",
       "    </tr>\n",
       "    <tr>\n",
       "      <th>1</th>\n",
       "      <td>2018-02-13 00:00:00</td>\n",
       "      <td>2</td>\n",
       "      <td>1</td>\n",
       "      <td>4.9</td>\n",
       "      <td>2.0</td>\n",
       "      <td>7.0</td>\n",
       "      <td>0.0</td>\n",
       "      <td>9.3</td>\n",
       "      <td>1014.9</td>\n",
       "      <td>Moderate</td>\n",
       "    </tr>\n",
       "    <tr>\n",
       "      <th>2</th>\n",
       "      <td>2018-02-14 00:00:00</td>\n",
       "      <td>2</td>\n",
       "      <td>2</td>\n",
       "      <td>5.8</td>\n",
       "      <td>3.0</td>\n",
       "      <td>8.0</td>\n",
       "      <td>0.3</td>\n",
       "      <td>21.5</td>\n",
       "      <td>1009.7</td>\n",
       "      <td>Moderate</td>\n",
       "    </tr>\n",
       "    <tr>\n",
       "      <th>3</th>\n",
       "      <td>2018-02-15 00:00:00</td>\n",
       "      <td>2</td>\n",
       "      <td>3</td>\n",
       "      <td>3.7</td>\n",
       "      <td>1.0</td>\n",
       "      <td>8.8</td>\n",
       "      <td>10.4</td>\n",
       "      <td>16.9</td>\n",
       "      <td>1018.3</td>\n",
       "      <td>Moderate</td>\n",
       "    </tr>\n",
       "    <tr>\n",
       "      <th>4</th>\n",
       "      <td>2018-02-16 00:00:00</td>\n",
       "      <td>2</td>\n",
       "      <td>4</td>\n",
       "      <td>3.9</td>\n",
       "      <td>1.0</td>\n",
       "      <td>11.0</td>\n",
       "      <td>0.0</td>\n",
       "      <td>14.3</td>\n",
       "      <td>1024.8</td>\n",
       "      <td>Moderate</td>\n",
       "    </tr>\n",
       "  </tbody>\n",
       "</table>\n",
       "</div>"
      ],
      "text/plain": [
       "                  date month dayofweek tavg tmin  tmax  prcp  wspd    pres  \\\n",
       "0  2018-02-12 00:00:00     2         0  2.3  1.0   4.2   4.3  10.3  1012.0   \n",
       "1  2018-02-13 00:00:00     2         1  4.9  2.0   7.0   0.0   9.3  1014.9   \n",
       "2  2018-02-14 00:00:00     2         2  5.8  3.0   8.0   0.3  21.5  1009.7   \n",
       "3  2018-02-15 00:00:00     2         3  3.7  1.0   8.8  10.4  16.9  1018.3   \n",
       "4  2018-02-16 00:00:00     2         4  3.9  1.0  11.0   0.0  14.3  1024.8   \n",
       "\n",
       "        AQI  \n",
       "0      Good  \n",
       "1  Moderate  \n",
       "2  Moderate  \n",
       "3  Moderate  \n",
       "4  Moderate  "
      ]
     },
     "execution_count": 28,
     "metadata": {},
     "output_type": "execute_result"
    }
   ],
   "source": [
    "dataHeader=data[0]\n",
    "dfData=pd.DataFrame(data[1:],columns=dataHeader)\n",
    "data=data[1:]\n",
    "dfData.head()"
   ]
  },
  {
   "cell_type": "markdown",
   "metadata": {},
   "source": [
    "This block of code process the data removing entries that do not have information  - marked with nan."
   ]
  },
  {
   "cell_type": "code",
   "execution_count": 29,
   "metadata": {},
   "outputs": [],
   "source": [
    "toRemove=[]\n",
    "for member in data:\n",
    "    for el in member:\n",
    "        if el=='nan':\n",
    "            toRemove.append(member)\n",
    "            break\n",
    "            \n",
    "for member in toRemove:\n",
    "    data.remove(member)"
   ]
  },
  {
   "cell_type": "markdown",
   "metadata": {},
   "source": [
    "This block of code removes the date field as it is not used in training the random forest algorithm."
   ]
  },
  {
   "cell_type": "code",
   "execution_count": 30,
   "metadata": {},
   "outputs": [],
   "source": [
    "for member in data:\n",
    "    del member[0]"
   ]
  },
  {
   "cell_type": "markdown",
   "metadata": {},
   "source": [
    "This block of code breaks the data into features X (meteorological data) and classes Y (AQI).\n",
    "X and Y are converter from lists to arrays, as the sklearn moddules requires arrays as input data."
   ]
  },
  {
   "cell_type": "code",
   "execution_count": 31,
   "metadata": {},
   "outputs": [],
   "source": [
    "X=[]\n",
    "Y=[]\n",
    "for member in data:\n",
    "    X.append(member[:-1])\n",
    "    Y.append(member[-1])\n",
    "    \n",
    "X=np.array(X)\n",
    "Y=np.array(Y)"
   ]
  },
  {
   "cell_type": "markdown",
   "metadata": {},
   "source": [
    "This line of code creates data split. The classes and the features are split into training data and test data. The test data in this specific case is left in order to provide a demonstration for the user. The split is train to test is as 9:1. "
   ]
  },
  {
   "cell_type": "code",
   "execution_count": 32,
   "metadata": {},
   "outputs": [],
   "source": [
    "x_train, x_test, y_train, y_test = train_test_split(X, Y, test_size=0.1)"
   ]
  },
  {
   "cell_type": "markdown",
   "metadata": {},
   "source": [
    "This initializes the Random Forest Classifier. The setting of the classifier are not tuned in this case, but are placed just to provide a demonstration. When building an application each of the parameters bellow must be set and fine tuned in order to get maximum accuracy. "
   ]
  },
  {
   "cell_type": "code",
   "execution_count": 33,
   "metadata": {},
   "outputs": [],
   "source": [
    "clf = RandomForestClassifier(\n",
    "    n_estimators=30,\n",
    "    min_samples_split=5,\n",
    "    max_depth=20, \n",
    "    min_samples_leaf=7,\n",
    "    min_weight_fraction_leaf=0.1,\n",
    "    max_features='auto',\n",
    "    max_leaf_nodes=5,\n",
    "    oob_score=True,\n",
    "    random_state=0)"
   ]
  },
  {
   "cell_type": "markdown",
   "metadata": {},
   "source": [
    "The classifier is then trained."
   ]
  },
  {
   "cell_type": "code",
   "execution_count": 34,
   "metadata": {},
   "outputs": [
    {
     "data": {
      "text/plain": [
       "RandomForestClassifier(bootstrap=True, ccp_alpha=0.0, class_weight=None,\n",
       "                       criterion='gini', max_depth=20, max_features='auto',\n",
       "                       max_leaf_nodes=5, max_samples=None,\n",
       "                       min_impurity_decrease=0.0, min_impurity_split=None,\n",
       "                       min_samples_leaf=7, min_samples_split=5,\n",
       "                       min_weight_fraction_leaf=0.1, n_estimators=30,\n",
       "                       n_jobs=None, oob_score=True, random_state=0, verbose=0,\n",
       "                       warm_start=False)"
      ]
     },
     "execution_count": 34,
     "metadata": {},
     "output_type": "execute_result"
    }
   ],
   "source": [
    "clf.fit(x_train, y_train)"
   ]
  },
  {
   "cell_type": "markdown",
   "metadata": {},
   "source": [
    "When the training is complete the score or accuracy of the classifier can be displayed. The number represents the rate of accurate prediction from the whole data used to test the classifier.\n",
    "A reliable  classifier should  have score higher then 0.9. It has to be noted however that a higher score is not always  an indication for a functional and precise classifier."
   ]
  },
  {
   "cell_type": "code",
   "execution_count": 35,
   "metadata": {},
   "outputs": [
    {
     "name": "stdout",
     "output_type": "stream",
     "text": [
      "OOB Score:0.7304653204565408\n"
     ]
    }
   ],
   "source": [
    "print('OOB Score:'+str(clf.oob_score_))"
   ]
  },
  {
   "cell_type": "markdown",
   "metadata": {},
   "source": [
    "This block of code displays the feature importance. Feature importance how much each feature has contributed to the classification. Feature importance should sum to 1."
   ]
  },
  {
   "cell_type": "code",
   "execution_count": 36,
   "metadata": {},
   "outputs": [
    {
     "name": "stdout",
     "output_type": "stream",
     "text": [
      "                  0\n",
      "dayofweek  0.190510\n",
      "tavg       0.013877\n",
      "tmin       0.143583\n",
      "tmax       0.132285\n",
      "prcp       0.118898\n",
      "wspd       0.031744\n",
      "pres       0.299970\n",
      "AQI        0.069131\n"
     ]
    }
   ],
   "source": [
    "dfFeatures=pd.DataFrame(clf.feature_importances_,index=dataHeader[2:])\n",
    "print(dfFeatures)"
   ]
  },
  {
   "cell_type": "markdown",
   "metadata": {},
   "source": [
    "This code displays a snipped of the test data. "
   ]
  },
  {
   "cell_type": "code",
   "execution_count": 37,
   "metadata": {},
   "outputs": [
    {
     "name": "stdout",
     "output_type": "stream",
     "text": [
      "    month dayofweek  tavg  tmin  tmax prcp  wspd    pres       AQI\n",
      "0       8         0  22.2  15.0  27.2  0.0  12.3  1014.3      Good\n",
      "1       8         0  25.4  21.0  32.0  0.0  15.5  1012.8      Good\n",
      "2       7         3  20.3  16.0  26.4  0.8  14.1  1009.3  Moderate\n",
      "3      12         5   8.6   5.8  10.2  5.8  12.7  1018.7  Moderate\n",
      "4       3         5   4.0  -1.0   8.4  0.0   9.2  1011.0  Moderate\n",
      "..    ...       ...   ...   ...   ...  ...   ...     ...       ...\n",
      "122     6         1  14.6  12.0  19.6  0.0   8.4  1008.3      Good\n",
      "123     7         1  24.8  18.0  32.0  0.0   7.3  1012.8      Good\n",
      "124     9         2  21.8  17.0  28.0  0.0  13.1  1019.3      Good\n",
      "125     6         3  25.6  20.0  32.0  0.0   7.0  1015.0      Good\n",
      "126     5         1  18.2  14.0  23.0  0.0  24.4  1005.9      Good\n",
      "\n",
      "[127 rows x 9 columns]\n"
     ]
    }
   ],
   "source": [
    "y_list=y_test.tolist()\n",
    "x_list=x_test.tolist()\n",
    "test_data=[]\n",
    "for x,y in zip (x_list,y_list):\n",
    "    x.append(y)\n",
    "    test_data.append(x)\n",
    "dfTestData=pd.DataFrame(test_data,columns=dataHeader[1:])\n",
    "print(dfTestData)"
   ]
  },
  {
   "cell_type": "markdown",
   "metadata": {},
   "source": [
    "The data above can be used to test the classifier. In order to do that the features (month, dayofweek,tavg,tmin,tmas,prcp,wspd,pres) have to be writen down in the line bellow as per the example. When placed correctly and ran the classifier should return a result that can be compared to the AQI from the table. "
   ]
  },
  {
   "cell_type": "code",
   "execution_count": 38,
   "metadata": {},
   "outputs": [
    {
     "name": "stdout",
     "output_type": "stream",
     "text": [
      "Prediction of AQI:Good\n"
     ]
    }
   ],
   "source": [
    "prediction=clf.predict([[12,1,2.7,1,7.5,8.9,20.9,1014]])\n",
    "print('Prediction of AQI:'+prediction[0])"
   ]
  },
  {
   "cell_type": "code",
   "execution_count": null,
   "metadata": {},
   "outputs": [],
   "source": []
  }
 ],
 "metadata": {
  "kernelspec": {
   "display_name": "Python 3",
   "language": "python",
   "name": "python3"
  },
  "language_info": {
   "codemirror_mode": {
    "name": "ipython",
    "version": 3
   },
   "file_extension": ".py",
   "mimetype": "text/x-python",
   "name": "python",
   "nbconvert_exporter": "python",
   "pygments_lexer": "ipython3",
   "version": "3.7.6"
  }
 },
 "nbformat": 4,
 "nbformat_minor": 4
}
